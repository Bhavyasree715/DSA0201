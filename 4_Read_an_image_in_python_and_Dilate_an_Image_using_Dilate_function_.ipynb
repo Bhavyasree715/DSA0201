
!pip install opencv-python
     
Requirement already satisfied: opencv-python in /usr/local/lib/python3.11/dist-packages (4.11.0.86)
Requirement already satisfied: numpy>=1.21.2 in /usr/local/lib/python3.11/dist-packages (from opencv-python) (2.0.2)

from google.colab import files
uploaded = files.upload()
     
Upload widget is only available when the cell has been executed in the current browser session. Please rerun this cell to enable.
Saving i4.png to i4.png

import cv2
import matplotlib.pyplot as plt
import numpy as np

image = cv2.imread('i4.png', cv2.IMREAD_GRAYSCALE)

_, thresh = cv2.threshold(image, 120, 255, cv2.THRESH_BINARY)

kernel = np.ones((5, 5), np.uint8)

dilated = cv2.dilate(thresh, kernel, iterations=1)

plt.figure(figsize=(10, 5))

plt.subplot(1, 2, 1)
plt.imshow(thresh, cmap='gray')
plt.title("Original (Thresholded)")
plt.axis('off')

plt.subplot(1, 2, 2)
plt.imshow(dilated, cmap='gray')
plt.title("Dilated Image")
plt.axis('off')

plt.tight_layout()
plt.show()
     
